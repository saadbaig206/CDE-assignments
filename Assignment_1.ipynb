{
 "cells": [
  {
   "cell_type": "markdown",
   "metadata": {},
   "source": [
    "# CDE ASSIGNMENT #01\n",
    "## M.Saad Baig                                      \n",
    "### ROLL NO: CDE-391794\n",
    "## PART 01\n",
    "### QUESTION 01"
   ]
  },
  {
   "cell_type": "code",
   "execution_count": 2,
   "metadata": {},
   "outputs": [
    {
     "name": "stdout",
     "output_type": "stream",
     "text": [
      "Name: M.Saad Baig \n",
      " Father Name: A.Qadeer \n",
      " DOB : 10/02/2006\n"
     ]
    }
   ],
   "source": [
    "print(\"Name: M.Saad Baig \\n Father Name: A.Qadeer \\n DOB : 10/02/2006\")"
   ]
  },
  {
   "cell_type": "markdown",
   "metadata": {},
   "source": [
    "### QUESTION 02"
   ]
  },
  {
   "cell_type": "code",
   "execution_count": 1,
   "metadata": {},
   "outputs": [
    {
     "name": "stdout",
     "output_type": "stream",
     "text": [
      "My name is M.Saad Baig. Currently studying in NED UET BSCS department.\n"
     ]
    }
   ],
   "source": [
    "a='My name is M.Saad Baig. Currently studying in NED UET BSCS department.'\n",
    "print(a)"
   ]
  },
  {
   "cell_type": "markdown",
   "metadata": {},
   "source": [
    "### QUESTION 03"
   ]
  },
  {
   "cell_type": "code",
   "execution_count": 5,
   "metadata": {},
   "outputs": [
    {
     "name": "stdout",
     "output_type": "stream",
     "text": [
      "ADDITION OF a & b: 15\n",
      "SUBTRACTION OF a & b: -1\n",
      "MULTIPLICATION OF a & b: 56\n",
      "DIVISION OF a & b: 0.875\n"
     ]
    }
   ],
   "source": [
    "a=7\n",
    "b=8\n",
    "print('ADDITION OF a & b:',a+b)\n",
    "print('SUBTRACTION OF a & b:',a-b)\n",
    "print('MULTIPLICATION OF a & b:',a*b)\n",
    "print('DIVISION OF a & b:',a/b)"
   ]
  },
  {
   "cell_type": "markdown",
   "metadata": {},
   "source": [
    "### QUESTION 04"
   ]
  },
  {
   "cell_type": "code",
   "execution_count": 7,
   "metadata": {},
   "outputs": [
    {
     "name": "stdout",
     "output_type": "stream",
     "text": [
      "OBTAINED MARKS:  166\n",
      "PERCENTAGE:  55.333333333333336 %\n"
     ]
    }
   ],
   "source": [
    "English = 23\n",
    "Islamiat = 45\n",
    "Maths = 98\n",
    "Obtained_marks=English+Islamiat+Maths\n",
    "print('OBTAINED MARKS: ',Obtained_marks)\n",
    "Total_marks=300\n",
    "Percentage=(Obtained_marks/Total_marks)*100\n",
    "print(\"PERCENTAGE: \",Percentage,\"%\")"
   ]
  },
  {
   "cell_type": "markdown",
   "metadata": {},
   "source": [
    "## PART 2 "
   ]
  },
  {
   "cell_type": "markdown",
   "metadata": {},
   "source": [
    "### QUESTION 01"
   ]
  },
  {
   "cell_type": "code",
   "execution_count": 10,
   "metadata": {},
   "outputs": [
    {
     "name": "stdout",
     "output_type": "stream",
     "text": [
      "UPDATED SALARY:  5250.0\n"
     ]
    }
   ],
   "source": [
    "salary=int(input('ENTER SALARY: '))\n",
    "service_years=int(input('ENTER SERVICE YEARS: '))\n",
    "if(service_years>5):\n",
    "    salary=salary+salary*0.05\n",
    "    print(\"UPDATED SALARY: \",salary)\n"
   ]
  },
  {
   "cell_type": "markdown",
   "metadata": {},
   "source": [
    "### QUESTION 02"
   ]
  },
  {
   "cell_type": "code",
   "execution_count": 11,
   "metadata": {},
   "outputs": [
    {
     "name": "stdout",
     "output_type": "stream",
     "text": [
      "ELIGIBLE FOR VOING\n"
     ]
    }
   ],
   "source": [
    "age=int(input('ENTER YOUR AGE: '))\n",
    "if(age>17):\n",
    "    print(\"ELIGIBLE FOR VOING\")\n",
    "else:\n",
    "    print('NOT ELIGIBLE FOR VOTING')"
   ]
  },
  {
   "cell_type": "markdown",
   "metadata": {},
   "source": [
    "### QUESTION NO 03"
   ]
  },
  {
   "cell_type": "code",
   "execution_count": 12,
   "metadata": {},
   "outputs": [
    {
     "name": "stdout",
     "output_type": "stream",
     "text": [
      "NUMBER IS EVEN\n"
     ]
    }
   ],
   "source": [
    "input=int(input('ENTER NUMBER: '))\n",
    "if(input%2==0):\n",
    "    print(\"NUMBER IS EVEN\")\n",
    "else:\n",
    "    print(\"NUMBER IS ODD\")"
   ]
  },
  {
   "cell_type": "markdown",
   "metadata": {},
   "source": [
    "### QUESTION NO 04"
   ]
  },
  {
   "cell_type": "code",
   "execution_count": 18,
   "metadata": {},
   "outputs": [
    {
     "ename": "ValueError",
     "evalue": "invalid literal for int() with base 10: ''",
     "output_type": "error",
     "traceback": [
      "\u001b[31m---------------------------------------------------------------------------\u001b[39m",
      "\u001b[31mValueError\u001b[39m                                Traceback (most recent call last)",
      "\u001b[36mCell\u001b[39m\u001b[36m \u001b[39m\u001b[32mIn[18]\u001b[39m\u001b[32m, line 1\u001b[39m\n\u001b[32m----> \u001b[39m\u001b[32m1\u001b[39m num=\u001b[38;5;28;43mint\u001b[39;49m\u001b[43m(\u001b[49m\u001b[38;5;28;43minput\u001b[39;49m\u001b[43m(\u001b[49m\u001b[33;43m\"\u001b[39;49m\u001b[33;43mENTER NUMBER: \u001b[39;49m\u001b[33;43m\"\u001b[39;49m\u001b[43m)\u001b[49m\u001b[43m)\u001b[49m\n\u001b[32m      2\u001b[39m \u001b[38;5;28;01mif\u001b[39;00m(num%\u001b[32m7\u001b[39m==\u001b[32m0\u001b[39m):\n\u001b[32m      3\u001b[39m     \u001b[38;5;28mprint\u001b[39m(\u001b[33m\"\u001b[39m\u001b[33mNUMBER IS DIVISIBLE BY 7\u001b[39m\u001b[33m\"\u001b[39m)\n",
      "\u001b[31mValueError\u001b[39m: invalid literal for int() with base 10: ''"
     ]
    }
   ],
   "source": [
    "num=int(input(\"ENTER NUMBER: \"))\n",
    "if(num%7==0):\n",
    "    print(\"NUMBER IS DIVISIBLE BY 7\")\n",
    "else:\n",
    "    print(\"NUMBER IS NOT DIVISIBLE BY 7\")"
   ]
  },
  {
   "cell_type": "markdown",
   "metadata": {},
   "source": [
    "### QUESTION NO 05\n"
   ]
  },
  {
   "cell_type": "code",
   "execution_count": 19,
   "metadata": {},
   "outputs": [
    {
     "ename": "ValueError",
     "evalue": "invalid literal for int() with base 10: ''",
     "output_type": "error",
     "traceback": [
      "\u001b[31m---------------------------------------------------------------------------\u001b[39m",
      "\u001b[31mValueError\u001b[39m                                Traceback (most recent call last)",
      "\u001b[36mCell\u001b[39m\u001b[36m \u001b[39m\u001b[32mIn[19]\u001b[39m\u001b[32m, line 1\u001b[39m\n\u001b[32m----> \u001b[39m\u001b[32m1\u001b[39m num=\u001b[38;5;28;43mint\u001b[39;49m\u001b[43m(\u001b[49m\u001b[38;5;28;43minput\u001b[39;49m\u001b[43m(\u001b[49m\u001b[33;43m'\u001b[39;49m\u001b[33;43mENTER NUMBER: \u001b[39;49m\u001b[33;43m'\u001b[39;49m\u001b[43m)\u001b[49m\u001b[43m)\u001b[49m\n\u001b[32m      2\u001b[39m \u001b[38;5;28;01mif\u001b[39;00m(num%\u001b[32m5\u001b[39m==\u001b[32m0\u001b[39m):\n\u001b[32m      3\u001b[39m     \u001b[38;5;28mprint\u001b[39m(\u001b[33m\"\u001b[39m\u001b[33mHELLO\u001b[39m\u001b[33m\"\u001b[39m)\n",
      "\u001b[31mValueError\u001b[39m: invalid literal for int() with base 10: ''"
     ]
    }
   ],
   "source": [
    "num=int(input('ENTER NUMBER: '))\n",
    "if(num%5==0):\n",
    "    print(\"HELLO\")\n",
    "else:\n",
    "    print(\"BYE\")"
   ]
  },
  {
   "cell_type": "markdown",
   "metadata": {},
   "source": [
    "### QUESTION NO 06"
   ]
  },
  {
   "cell_type": "code",
   "execution_count": null,
   "metadata": {},
   "outputs": [],
   "source": [
    "units=input('ENTER NUMBER OF UNITS: ')\n",
    "\n",
    "if(units<0):\n",
    "    print(\"Enter Valid Number of Units i.e. greater than 0\")\n",
    "elif(units>=0 and units<=100):\n",
    "        print('BILL: 0',)\n",
    "elif(units>100 and units<=200):\n",
    "      print('BILL: ',5*units)\n",
    "else:\n",
    "      print('BILL: ',10*units)\n",
    "\n"
   ]
  },
  {
   "cell_type": "markdown",
   "metadata": {},
   "source": [
    "### QUESTIOON NO 07"
   ]
  },
  {
   "cell_type": "code",
   "execution_count": 2,
   "metadata": {},
   "outputs": [
    {
     "name": "stdout",
     "output_type": "stream",
     "text": [
      "6\n"
     ]
    }
   ],
   "source": [
    "number=int(input(\"ENTER NUMBER: \"))\n",
    "last_number=number%10\n",
    "print(last_number)"
   ]
  },
  {
   "cell_type": "markdown",
   "metadata": {},
   "source": [
    "### QUESTION NO 09"
   ]
  },
  {
   "cell_type": "code",
   "execution_count": 3,
   "metadata": {},
   "outputs": [
    {
     "name": "stdout",
     "output_type": "stream",
     "text": [
      "RECTANGLE\n"
     ]
    }
   ],
   "source": [
    "length=int(input('ENTER LENGTH: '))\n",
    "breadth=int(input('ENTER BREADTH: '))\n",
    "if(length==breadth):\n",
    "    print(\"SQUARE\")\n",
    "else:\n",
    "    print(\"RECTANGLE\")"
   ]
  },
  {
   "cell_type": "markdown",
   "metadata": {},
   "source": [
    "### QUESTION NO 10"
   ]
  },
  {
   "cell_type": "code",
   "execution_count": 4,
   "metadata": {},
   "outputs": [
    {
     "name": "stdout",
     "output_type": "stream",
     "text": [
      "B is greatest 9\n"
     ]
    }
   ],
   "source": [
    "a=int(input('ENTER FIRST NUMBER: '))\n",
    "b=int(input('ENTER SECOND NUMBER: '))\n",
    "if(a>b):\n",
    "    print('A is greatest', a)\n",
    "else:\n",
    "    print('B is greatest',b)"
   ]
  },
  {
   "cell_type": "markdown",
   "metadata": {},
   "source": [
    "### QUESTION NO 11"
   ]
  },
  {
   "cell_type": "code",
   "execution_count": 7,
   "metadata": {},
   "outputs": [
    {
     "name": "stdout",
     "output_type": "stream",
     "text": [
      "TOTAL AMOUNT: 1200\n",
      "AMOUNT AFTER 10% DISCOUNT:  1080.0\n"
     ]
    }
   ],
   "source": [
    "quantity=int(input('ENTER QUANTITY: '))\n",
    "unit=100\n",
    "purchase=quantity*100\n",
    "if(purchase>1000):\n",
    "    print(\"TOTAL AMOUNT:\",purchase)\n",
    "    print(\"AMOUNT AFTER 10% DISCOUNT: \",purchase-(purchase*0.1))\n",
    "else:\n",
    "    print('TOTAL AMOUNT: ',purchase)"
   ]
  },
  {
   "cell_type": "markdown",
   "metadata": {},
   "source": [
    "### QUESTION NO 12"
   ]
  },
  {
   "cell_type": "code",
   "execution_count": 9,
   "metadata": {},
   "outputs": [
    {
     "name": "stdout",
     "output_type": "stream",
     "text": [
      "GRADE: F\n"
     ]
    }
   ],
   "source": [
    "marks=int(input('ENTER MARKS: '))\n",
    "if(marks>100 or marks<0):\n",
    "    print('ENTER VALID MARKS i.e. LESS THAN 100 OR GREATER THAN 0')\n",
    "elif(marks<100 and marks>80):\n",
    "    print('GRADE: A')\n",
    "elif(marks<=80 and marks>60):\n",
    "    print('GRADE: B')\n",
    "elif(marks<=60 and marks>50):\n",
    "    print('GRADE: C')\n",
    "elif(marks<=50 and marks>45):\n",
    "    print('GRADE: D')\n",
    "elif(marks<=45 and marks>25):\n",
    "    print('GRADE: E')\n",
    "else:\n",
    "    print('GRADE: F')\n",
    "\n"
   ]
  },
  {
   "cell_type": "markdown",
   "metadata": {},
   "source": [
    "### QUESTION NO 13"
   ]
  },
  {
   "cell_type": "code",
   "execution_count": 10,
   "metadata": {},
   "outputs": [
    {
     "name": "stdout",
     "output_type": "stream",
     "text": [
      "YOUNGEST:  14\n",
      "OLDEST:  45\n"
     ]
    }
   ],
   "source": [
    "user1=int(input('ENTER AGE OF FIRST PERSON'))\n",
    "user2=int(input('ENTER AGE OF SECOND PERSON'))\n",
    "user3=int(input('ENTER AGE OF THIRD PERSON'))\n",
    "\n",
    "oldest=max(user1,user2,user3)\n",
    "youngest=min(user1,user2,user3)\n",
    "\n",
    "print('YOUNGEST: ',youngest)\n",
    "print('OLDEST: ',oldest)"
   ]
  },
  {
   "cell_type": "markdown",
   "metadata": {},
   "source": [
    "### QUESTION NO 14"
   ]
  },
  {
   "cell_type": "code",
   "execution_count": 11,
   "metadata": {},
   "outputs": [
    {
     "name": "stdout",
     "output_type": "stream",
     "text": [
      "CLASS ATTENDED 50.0 %\n",
      "CAN'T SIT IN EXAMS\n"
     ]
    }
   ],
   "source": [
    "classes_held=int(input('ENTER NUMBER OF CLASSES HELD: '))\n",
    "attended_class=int(input('ENTER NUMBER OF CLASSES ATTENDED: '))\n",
    "\n",
    "per_classes=(attended_class/classes_held)*100\n",
    "if(per_classes>75):\n",
    "    print('CLASS ATTENDED',per_classes,'%')\n",
    "    print('CAN SIT IN EXAMS')\n",
    "else:\n",
    "    print('CLASS ATTENDED',per_classes,'%')\n",
    "    print('CAN\\'T SIT IN EXAMS')"
   ]
  },
  {
   "cell_type": "markdown",
   "metadata": {},
   "source": [
    "### QUESTION NO 15"
   ]
  },
  {
   "cell_type": "code",
   "execution_count": 12,
   "metadata": {},
   "outputs": [
    {
     "name": "stdout",
     "output_type": "stream",
     "text": [
      "CAN'T SIT IN EXAMS\n"
     ]
    }
   ],
   "source": [
    "choice=input(\"Do you have medical cause? (Y or N)\")\n",
    "if(choice.lower()=='y'):\n",
    "    print('CAN SIT IN THE EXAM')\n",
    "elif(choice.lower()=='n'):\n",
    "    print(\"CAN'T SIT IN EXAMS\")\n",
    "else:\n",
    "    print('INVALID INPUT!!!')"
   ]
  },
  {
   "cell_type": "markdown",
   "metadata": {},
   "source": [
    "### QUESTION NO 16"
   ]
  },
  {
   "cell_type": "code",
   "execution_count": 13,
   "metadata": {},
   "outputs": [
    {
     "name": "stdout",
     "output_type": "stream",
     "text": [
      "2007 NOT A LEAP YEAR\n"
     ]
    }
   ],
   "source": [
    "leap_year = int(input(\"Enter a year: \"))\n",
    "\n",
    "if (leap_year % 4 == 0 and leap_year % 100 != 0) or (leap_year % 400 == 0):\n",
    "    print(leap_year, \"LEAP YEAR\")\n",
    "else:\n",
    "    print(leap_year, \"NOT A LEAP YEAR\")"
   ]
  },
  {
   "cell_type": "markdown",
   "metadata": {},
   "source": [
    "### QUESTION NO 17"
   ]
  },
  {
   "cell_type": "code",
   "execution_count": 15,
   "metadata": {},
   "outputs": [
    {
     "name": "stdout",
     "output_type": "stream",
     "text": [
      "Can work anywhere\n"
     ]
    }
   ],
   "source": [
    "age=int(input('ENTER YOUR AGE: '))\n",
    "gender=str(input('ENTER YOUR GENDER: '))\n",
    "\n",
    "if(gender.lower()=='female'):\n",
    "    print('can work only in urban areas')\n",
    "elif(gender=='male' and (age>=20 and age<=40)):\n",
    "    print('Can work anywhere')\n",
    "elif(gender=='male' and (age>=40 and age<=60)):\n",
    "    print('Can only work in urban areas')\n",
    "else:\n",
    "    print('ERROR')\n",
    "\n",
    "\n",
    "     "
   ]
  }
 ],
 "metadata": {
  "kernelspec": {
   "display_name": "Python 3",
   "language": "python",
   "name": "python3"
  },
  "language_info": {
   "codemirror_mode": {
    "name": "ipython",
    "version": 3
   },
   "file_extension": ".py",
   "mimetype": "text/x-python",
   "name": "python",
   "nbconvert_exporter": "python",
   "pygments_lexer": "ipython3",
   "version": "3.13.2"
  }
 },
 "nbformat": 4,
 "nbformat_minor": 2
}
