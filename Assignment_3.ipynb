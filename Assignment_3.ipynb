{
 "cells": [
  {
   "cell_type": "markdown",
   "metadata": {},
   "source": [
    "# CDE ASSIGNMENT # 03"
   ]
  },
  {
   "cell_type": "markdown",
   "metadata": {},
   "source": [
    "## NAME: M.Saad Baig"
   ]
  },
  {
   "cell_type": "markdown",
   "metadata": {},
   "source": [
    "## ROLL NO: CDE-391794"
   ]
  },
  {
   "cell_type": "markdown",
   "metadata": {},
   "source": [
    "### QUESTION NO: 01"
   ]
  },
  {
   "cell_type": "code",
   "execution_count": 1,
   "metadata": {},
   "outputs": [
    {
     "name": "stdout",
     "output_type": "stream",
     "text": [
      "2\n"
     ]
    }
   ],
   "source": [
    "user = input('Enter your string : ')\n",
    "vowels = 0\n",
    "for alph in user:\n",
    "    alph = alph.upper()\n",
    "\n",
    "    if(alph== 'A' or alph== 'E' or alph == 'I' or alph == 'O' or alph == 'U' ):\n",
    "       vowels= vowels+1\n",
    "print (vowels)  "
   ]
  },
  {
   "cell_type": "markdown",
   "metadata": {},
   "source": [
    "### QUESTION NO: 02"
   ]
  },
  {
   "cell_type": "code",
   "execution_count": 2,
   "metadata": {},
   "outputs": [
    {
     "name": "stdout",
     "output_type": "stream",
     "text": [
      "Digs :  0 \n",
      "\n",
      "uppercase :  1 \n",
      "\n",
      "lowercase :  4 \n",
      "\n",
      "whitespaces :  0 \n",
      "\n"
     ]
    }
   ],
   "source": [
    "userinp = input('Enter your string : ')\n",
    "uppercase =0\n",
    "lowercase =0\n",
    "digs =0\n",
    "whitespaces =0\n",
    "for i in userinp:\n",
    "    if ( i.isspace() ):\n",
    "        whitespaces = whitespaces+1\n",
    "    if ( i.isupper() ):\n",
    "        uppercase = uppercase+1\n",
    "    if ( i.islower() ):\n",
    "        lowercase= lowercase+1\n",
    "    if ( i.isdigit() ):\n",
    "        digs =digs+1\n",
    "\n",
    "print(\"Digs : \", digs ,\"\\n\")    \n",
    "print(\"uppercase : \", uppercase ,\"\\n\")    \n",
    "print(\"lowercase : \", lowercase,\"\\n\")    \n",
    "print(\"whitespaces : \", whitespaces ,\"\\n\")    "
   ]
  },
  {
   "cell_type": "markdown",
   "metadata": {},
   "source": [
    "### QUESTION NO: 03"
   ]
  },
  {
   "cell_type": "code",
   "execution_count": 3,
   "metadata": {},
   "outputs": [
    {
     "data": {
      "text/plain": [
       "'pellH'"
      ]
     },
     "execution_count": 3,
     "metadata": {},
     "output_type": "execute_result"
    }
   ],
   "source": [
    "user_inp = input(\"Enter anything \")\n",
    "temp = user_inp[-1] + user_inp[1:-1] + user_inp[0]\n",
    "temp"
   ]
  },
  {
   "cell_type": "markdown",
   "metadata": {},
   "source": [
    "### QUESTION NO: 04"
   ]
  },
  {
   "cell_type": "code",
   "execution_count": 4,
   "metadata": {},
   "outputs": [
    {
     "data": {
      "text/plain": [
       "'daaS'"
      ]
     },
     "execution_count": 4,
     "metadata": {},
     "output_type": "execute_result"
    }
   ],
   "source": [
    "user_inp1 = input(\"Enter anything \")\n",
    "\n",
    "reversed_string = user_inp1[::-1]\n",
    "reversed_string"
   ]
  },
  {
   "cell_type": "markdown",
   "metadata": {},
   "source": [
    "### QUESTION NO: 05"
   ]
  },
  {
   "cell_type": "code",
   "execution_count": 5,
   "metadata": {},
   "outputs": [
    {
     "data": {
      "text/plain": [
       "'aadS'"
      ]
     },
     "execution_count": 5,
     "metadata": {},
     "output_type": "execute_result"
    }
   ],
   "source": [
    "stringg = input(\"Enter a String\") \n",
    "onePosLeft = stringg[1:]  + stringg[0]\n",
    "onePosLeft"
   ]
  },
  {
   "cell_type": "markdown",
   "metadata": {},
   "source": [
    "### QUESTION NO: 06"
   ]
  },
  {
   "cell_type": "code",
   "execution_count": 6,
   "metadata": {},
   "outputs": [
    {
     "data": {
      "text/plain": [
       "'S.B'"
      ]
     },
     "execution_count": 6,
     "metadata": {},
     "output_type": "execute_result"
    }
   ],
   "source": [
    "user_inp2 = input(\"Enter your full name with spaces\")\n",
    "initals=user_inp2[0].capitalize() \n",
    "iteration=0\n",
    "for i in user_inp2:\n",
    "\n",
    "    if(i.isspace()):\n",
    "       initals = initals + \".\"\n",
    "       initals = initals + user_inp2[iteration+1].capitalize()\n",
    "\n",
    "    iteration = iteration + 1\n",
    "initals"
   ]
  },
  {
   "cell_type": "markdown",
   "metadata": {},
   "source": [
    "### QUESTION NO: 07"
   ]
  },
  {
   "cell_type": "code",
   "execution_count": 8,
   "metadata": {},
   "outputs": [
    {
     "name": "stdout",
     "output_type": "stream",
     "text": [
      "Following string is palindrome  ror\n"
     ]
    }
   ],
   "source": [
    "user_inp3 = input(\"Enter a palindrome\")\n",
    "if(user_inp3 == user_inp3[::-1]):\n",
    "    print(\"Following string is palindrome \" , user_inp3) \n",
    "else:\n",
    "    print(\"Following string is not  palindrome \" , user_inp3) "
   ]
  },
  {
   "cell_type": "markdown",
   "metadata": {},
   "source": [
    "### QUESTION NO: 08"
   ]
  },
  {
   "cell_type": "code",
   "execution_count": 9,
   "metadata": {},
   "outputs": [
    {
     "name": "stdout",
     "output_type": "stream",
     "text": [
      "shift\n",
      "hifts\n",
      "iftsh\n",
      "ftshi\n",
      "tshif\n",
      "shift\n"
     ]
    }
   ],
   "source": [
    "anything = \"shift\"\n",
    "print(anything)\n",
    "i = 0  \n",
    "while i < 5:  \n",
    "   print( anything[(1+i):] + anything[:i+1] )  \n",
    "   i += 1  "
   ]
  },
  {
   "cell_type": "markdown",
   "metadata": {},
   "source": [
    "### QUESTION NO: 09"
   ]
  },
  {
   "cell_type": "code",
   "execution_count": 10,
   "metadata": {},
   "outputs": [
    {
     "name": "stdout",
     "output_type": "stream",
     "text": [
      "Password must contain at least one uppercase letter.\n"
     ]
    }
   ],
   "source": [
    "password = input(\"Enter your password: \")\n",
    "if len(password) < 8:\n",
    "    print(\"Password must be at least 8 characters long.\")\n",
    "elif not any(char.isupper() for char in password):\n",
    "    print(\"Password must contain at least one uppercase letter.\")\n",
    "elif not any(char.islower() for char in password):\n",
    "    print(\"Password must contain at least one lowercase letter.\")\n",
    "elif not any(char.isdigit() for char in password):\n",
    "    print(\"Password must contain at least one numeric digit.\")\n",
    "else:\n",
    "    print(\"Password is valid.\")"
   ]
  },
  {
   "cell_type": "code",
   "execution_count": null,
   "metadata": {},
   "outputs": [],
   "source": []
  }
 ],
 "metadata": {
  "kernelspec": {
   "display_name": "Python 3",
   "language": "python",
   "name": "python3"
  },
  "language_info": {
   "codemirror_mode": {
    "name": "ipython",
    "version": 3
   },
   "file_extension": ".py",
   "mimetype": "text/x-python",
   "name": "python",
   "nbconvert_exporter": "python",
   "pygments_lexer": "ipython3",
   "version": "3.13.2"
  }
 },
 "nbformat": 4,
 "nbformat_minor": 2
}
